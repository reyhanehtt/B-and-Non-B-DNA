{
  "nbformat": 4,
  "nbformat_minor": 0,
  "metadata": {
    "colab": {
      "provenance": [],
      "gpuType": "T4",
      "authorship_tag": "ABX9TyNm/Y9hcfXi06ekvEwveslF",
      "include_colab_link": true
    },
    "kernelspec": {
      "name": "python3",
      "display_name": "Python 3"
    },
    "language_info": {
      "name": "python"
    },
    "accelerator": "GPU"
  },
  "cells": [
    {
      "cell_type": "markdown",
      "metadata": {
        "id": "view-in-github",
        "colab_type": "text"
      },
      "source": [
        "<a href=\"https://colab.research.google.com/github/reyhanehtt/B-and-Non-B-DNA/blob/main/HMM/Pyro.ipynb\" target=\"_parent\"><img src=\"https://colab.research.google.com/assets/colab-badge.svg\" alt=\"Open In Colab\"/></a>"
      ]
    },
    {
      "cell_type": "code",
      "execution_count": null,
      "metadata": {
        "colab": {
          "base_uri": "https://localhost:8080/"
        },
        "id": "bAXX0LU8U2rV",
        "outputId": "a5561271-9e32-4e63-abac-6fae0cfe998d"
      },
      "outputs": [
        {
          "output_type": "stream",
          "name": "stdout",
          "text": [
            "Collecting pyro-ppl\n",
            "  Downloading pyro_ppl-1.9.1-py3-none-any.whl.metadata (7.8 kB)\n",
            "Requirement already satisfied: torch in /usr/local/lib/python3.10/dist-packages (2.4.1+cu121)\n",
            "Requirement already satisfied: numpy>=1.7 in /usr/local/lib/python3.10/dist-packages (from pyro-ppl) (1.26.4)\n",
            "Requirement already satisfied: opt-einsum>=2.3.2 in /usr/local/lib/python3.10/dist-packages (from pyro-ppl) (3.3.0)\n",
            "Collecting pyro-api>=0.1.1 (from pyro-ppl)\n",
            "  Downloading pyro_api-0.1.2-py3-none-any.whl.metadata (2.5 kB)\n",
            "Requirement already satisfied: tqdm>=4.36 in /usr/local/lib/python3.10/dist-packages (from pyro-ppl) (4.66.5)\n",
            "Requirement already satisfied: filelock in /usr/local/lib/python3.10/dist-packages (from torch) (3.16.1)\n",
            "Requirement already satisfied: typing-extensions>=4.8.0 in /usr/local/lib/python3.10/dist-packages (from torch) (4.12.2)\n",
            "Requirement already satisfied: sympy in /usr/local/lib/python3.10/dist-packages (from torch) (1.13.3)\n",
            "Requirement already satisfied: networkx in /usr/local/lib/python3.10/dist-packages (from torch) (3.3)\n",
            "Requirement already satisfied: jinja2 in /usr/local/lib/python3.10/dist-packages (from torch) (3.1.4)\n",
            "Requirement already satisfied: fsspec in /usr/local/lib/python3.10/dist-packages (from torch) (2024.6.1)\n",
            "Requirement already satisfied: MarkupSafe>=2.0 in /usr/local/lib/python3.10/dist-packages (from jinja2->torch) (2.1.5)\n",
            "Requirement already satisfied: mpmath<1.4,>=1.1.0 in /usr/local/lib/python3.10/dist-packages (from sympy->torch) (1.3.0)\n",
            "Downloading pyro_ppl-1.9.1-py3-none-any.whl (755 kB)\n",
            "\u001b[2K   \u001b[90m━━━━━━━━━━━━━━━━━━━━━━━━━━━━━━━━━━━━━━━━\u001b[0m \u001b[32m756.0/756.0 kB\u001b[0m \u001b[31m8.1 MB/s\u001b[0m eta \u001b[36m0:00:00\u001b[0m\n",
            "\u001b[?25hDownloading pyro_api-0.1.2-py3-none-any.whl (11 kB)\n",
            "Installing collected packages: pyro-api, pyro-ppl\n",
            "Successfully installed pyro-api-0.1.2 pyro-ppl-1.9.1\n"
          ]
        }
      ],
      "source": [
        "!pip install pyro-ppl torch\n",
        "\n",
        "import torch\n",
        "import pyro\n",
        "import pyro.distributions as dist\n",
        "from pyro.infer import SVI, Trace_ELBO\n",
        "from pyro.optim import Adam\n",
        "\n",
        "\n"
      ]
    },
    {
      "cell_type": "code",
      "source": [
        "def hmm_model(data, num_states):\n",
        "    # Define the priors for the transition and emission parameters\n",
        "    transition_probs = pyro.param(\"transition_probs_param\", torch.rand(num_states, num_states), constraint=dist.constraints.simplex)\n",
        "    emission_means = pyro.param(\"means_param\", torch.zeros(num_states))  # Initialize means\n",
        "    emission_stds = pyro.param(\"stds_param\", torch.ones(num_states), constraint=dist.constraints.positive)  # Initialize stds\n",
        "\n",
        "    # Define the initial state distribution\n",
        "    initial_probs = pyro.param(\"initial_probs_param\", torch.ones(num_states) / num_states, constraint=dist.constraints.simplex)\n",
        "\n",
        "    # Sample the initial state\n",
        "    state = pyro.sample(\"state_0\", dist.Categorical(initial_probs))\n",
        "\n",
        "    # Loop through the observed data\n",
        "    for t, observation in enumerate(data):\n",
        "        # Sample the current state given the previous state\n",
        "        state = pyro.sample(f\"state_{t+1}\", dist.Categorical(transition_probs[state]))\n",
        "\n",
        "        # Sample the observation given the current state\n",
        "        pyro.sample(f\"obs_{t+1}\", dist.Normal(emission_means[state], emission_stds[state]), obs=observation)\n"
      ],
      "metadata": {
        "id": "LBKarUd2X2Qe"
      },
      "execution_count": null,
      "outputs": []
    },
    {
      "cell_type": "markdown",
      "source": [
        "transition_probs: This is a\n",
        "2×2 matrix where each row contains the transition probabilities from one state to another. We use a Dirichlet distribution as a prior.\n",
        "\n",
        "initial_probs: This is the prior over the initial hidden state. The system can start in either B-DNA or Non-B-DNA.\n",
        "\n",
        "means and stds: These represent the mean and standard deviation of the Gaussian distribution associated with each state. The observations (DNA features) are generated based on these parameters.\n",
        "\n",
        "hidden_state: This tracks the current hidden state (B-DNA or Non-B-DNA). The state at time t depends on the transition from the state at time t-1."
      ],
      "metadata": {
        "id": "TIrR93MhakzV"
      }
    },
    {
      "cell_type": "code",
      "source": [
        "def hmm_guide(data, num_states):\n",
        "    # Learnable parameters for transition probabilities\n",
        "    pyro.param(\"transition_probs_param\", torch.ones(num_states, num_states), constraint=dist.constraints.simplex)\n",
        "\n",
        "    # Learnable parameters for initial state probabilities\n",
        "    pyro.param(\"initial_probs_param\", torch.ones(num_states), constraint=dist.constraints.simplex)\n",
        "\n",
        "    # Learnable parameters for the Gaussian means and std deviations for each state\n",
        "    pyro.param(\"means_param\", torch.zeros(num_states))\n",
        "    pyro.param(\"stds_param\", torch.ones(num_states), constraint=dist.constraints.positive)\n"
      ],
      "metadata": {
        "id": "yECgEzyKzqPF"
      },
      "execution_count": null,
      "outputs": []
    },
    {
      "cell_type": "markdown",
      "source": [
        "transition_probs_param: This is a learnable parameter that represents the transition matrix.\n",
        "\n",
        "initial_probs_param: A learnable parameter for the initial state probabilities.\n",
        "\n",
        "means_param and stds_param: These are learnable parameters for the Gaussian emission distributions (mean and standard deviation) for the B-DNA and Non-B-DNA states."
      ],
      "metadata": {
        "id": "eofgL6Zp1kLT"
      }
    },
    {
      "cell_type": "markdown",
      "source": [
        "Now, we’ll define the optimizer and the SVI (Stochastic Variational Inference) object that will be used to optimize the parameters in the guide."
      ],
      "metadata": {
        "id": "lltZ2yJgtSIC"
      }
    },
    {
      "cell_type": "code",
      "source": [
        "# Create the optimizer\n",
        "optimizer = Adam({\"lr\": 0.01})\n",
        "\n",
        "# Create the SVI object\n",
        "svi = SVI(hmm_model, hmm_guide, optimizer, loss=Trace_ELBO())\n"
      ],
      "metadata": {
        "id": "F0flEJh7YtT_"
      },
      "execution_count": null,
      "outputs": []
    },
    {
      "cell_type": "markdown",
      "source": [
        "Adam: We use the Adam optimizer to update the variational parameters.\n",
        "\n",
        "SVI: This is the Pyro object that performs variational inference. It requires the model, the guide, the optimizer, and the loss function (Trace_ELBO)."
      ],
      "metadata": {
        "id": "Ff6txbZKtcjK"
      }
    },
    {
      "cell_type": "code",
      "source": [
        "def train_hmm(data, num_states, num_steps=1000):\n",
        "    pyro.clear_param_store()\n",
        "\n",
        "    for step in range(num_steps):\n",
        "        # Perform a step of optimization\n",
        "        loss = svi.step(data, num_states)\n",
        "\n",
        "        # Print the loss every 50 steps\n",
        "        if step % 50 == 0:\n",
        "            print(f\"Step {step}: Loss = {loss}\")\n",
        "\n",
        "# Define the number of hidden states (e.g., 2 states for B-DNA and Non-B-DNA)\n",
        "num_states = 2\n",
        "\n",
        "# Example data: a 1D array of observed features (this should represent your DNA feature data)\n",
        "data = torch.tensor([2.1, 1.5, -0.2, 0.3, 1.8, 1.7, -1.1, 2.2, 0.1])\n",
        "\n",
        "# Train the model on the data\n",
        "train_hmm(data, num_states)\n"
      ],
      "metadata": {
        "colab": {
          "base_uri": "https://localhost:8080/"
        },
        "id": "pV0HEDmqa7un",
        "outputId": "8fbdbbba-c6bf-4d7c-f8ef-461aec9af0d6"
      },
      "execution_count": null,
      "outputs": [
        {
          "output_type": "stream",
          "name": "stderr",
          "text": [
            "/usr/local/lib/python3.10/dist-packages/pyro/util.py:303: UserWarning: Found vars in model but not guide: {'state_3', 'state_1', 'state_4', 'state_6', 'state_2', 'state_5', 'state_0', 'state_7', 'state_9', 'state_8'}\n",
            "  warnings.warn(f\"Found vars in model but not guide: {bad_sites}\")\n"
          ]
        },
        {
          "output_type": "stream",
          "name": "stdout",
          "text": [
            "Step 0: Loss = 24.691918432712555\n"
          ]
        },
        {
          "output_type": "stream",
          "name": "stderr",
          "text": [
            "/usr/local/lib/python3.10/dist-packages/pyro/util.py:303: UserWarning: Found vars in model but not guide: {'state_3', 'state_1', 'state_4', 'state_6', 'state_2', 'state_5', 'state_0', 'state_7', 'state_9', 'state_8'}\n",
            "  warnings.warn(f\"Found vars in model but not guide: {bad_sites}\")\n"
          ]
        },
        {
          "output_type": "stream",
          "name": "stdout",
          "text": [
            "Step 50: Loss = 21.330583810806274\n",
            "Step 100: Loss = 20.97357738018036\n",
            "Step 150: Loss = 20.649157464504242\n",
            "Step 200: Loss = 20.672191560268402\n",
            "Step 250: Loss = 20.545710861682892\n",
            "Step 300: Loss = 20.166686832904816\n",
            "Step 350: Loss = 20.137859106063843\n",
            "Step 400: Loss = 21.817894160747528\n",
            "Step 450: Loss = 21.11650174856186\n",
            "Step 500: Loss = 19.975821137428284\n",
            "Step 550: Loss = 20.256884574890137\n",
            "Step 600: Loss = 21.24632740020752\n",
            "Step 650: Loss = 20.992319494485855\n",
            "Step 700: Loss = 20.927818477153778\n",
            "Step 750: Loss = 20.048939287662506\n",
            "Step 800: Loss = 21.273469001054764\n",
            "Step 850: Loss = 20.16432449221611\n",
            "Step 900: Loss = 19.971367090940475\n",
            "Step 950: Loss = 20.89401423931122\n"
          ]
        }
      ]
    },
    {
      "cell_type": "markdown",
      "source": [
        "svi.step(data): This function performs one step of optimization, updating the variational parameters and returning the ELBO loss.\n",
        "\n",
        "Training Loop: The loop runs for a number of iterations (num_steps), printing the loss every 50 steps to monitor the training process."
      ],
      "metadata": {
        "id": "rbOYODCZbRWP"
      }
    },
    {
      "cell_type": "code",
      "source": [
        "# Print the learned transition probabilities\n",
        "print(\"Learned transition probabilities:\", pyro.param(\"transition_probs_param\").data)\n",
        "\n",
        "# Print the learned initial probabilities\n",
        "print(\"Learned initial state probabilities:\", pyro.param(\"initial_probs_param\").data)\n",
        "\n",
        "# Print the learned Gaussian means\n",
        "print(\"Learned means:\", pyro.param(\"means_param\").data)\n",
        "\n",
        "# Print the learned Gaussian standard deviations\n",
        "print(\"Learned standard deviations:\", pyro.param(\"stds_param\").data)\n"
      ],
      "metadata": {
        "id": "R0muSlSPuFC1",
        "colab": {
          "base_uri": "https://localhost:8080/"
        },
        "outputId": "45b4c46a-ef1b-443c-b434-40fa83c96498"
      },
      "execution_count": null,
      "outputs": [
        {
          "output_type": "stream",
          "name": "stdout",
          "text": [
            "Learned transition probabilities: tensor([[0.4928, 0.5072],\n",
            "        [0.6465, 0.3535]])\n",
            "Learned initial state probabilities: tensor([0.7535, 0.2465])\n",
            "Learned means: tensor([0.9213, 0.9440])\n",
            "Learned standard deviations: tensor([1.0812, 1.1518])\n"
          ]
        }
      ]
    }
  ]
}